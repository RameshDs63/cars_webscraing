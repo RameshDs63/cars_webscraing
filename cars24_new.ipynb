{
 "cells": [
  {
   "cell_type": "code",
   "execution_count": 1,
   "id": "95b8c2ce",
   "metadata": {},
   "outputs": [],
   "source": [
    "from bs4 import BeautifulSoup\n",
    "import requests"
   ]
  },
  {
   "cell_type": "code",
   "execution_count": 2,
   "id": "e2b9c46c",
   "metadata": {},
   "outputs": [],
   "source": [
    "website='https://www.cars24.com/buy-used-car/?f=make%3A%3D%3Atoyota&sort=bestmatch&serveWarrantyCount=true&gaId=2008015707.1720107242&listingSource=Homepage_Filters&storeCityId=2378'"
   ]
  },
  {
   "cell_type": "code",
   "execution_count": 3,
   "id": "3b53b1f2",
   "metadata": {},
   "outputs": [],
   "source": [
    "response=requests.get(website)"
   ]
  },
  {
   "cell_type": "code",
   "execution_count": 4,
   "id": "ec6954a0",
   "metadata": {},
   "outputs": [
    {
     "data": {
      "text/plain": [
       "<Response [200]>"
      ]
     },
     "execution_count": 4,
     "metadata": {},
     "output_type": "execute_result"
    }
   ],
   "source": [
    "requests.get(website)"
   ]
  },
  {
   "cell_type": "code",
   "execution_count": 5,
   "id": "d3b34466",
   "metadata": {},
   "outputs": [],
   "source": [
    "soup=BeautifulSoup(response.content,'html.parser')"
   ]
  },
  {
   "cell_type": "code",
   "execution_count": 6,
   "id": "f9d4a321",
   "metadata": {},
   "outputs": [],
   "source": [
    "results=soup.find_all('a',{'class':'IIJDn'})"
   ]
  },
  {
   "cell_type": "code",
   "execution_count": 8,
   "id": "06164f53",
   "metadata": {},
   "outputs": [
    {
     "name": "stdout",
     "output_type": "stream",
     "text": [
      "[<a class=\"IIJDn\" href=\"https://www.cars24.com/buy-used-toyota-etios-liva-2012-cars-mumbai-10374437758/\" target=\"_blank\"><div><div class=\"RPKrE\"><span class=\"lazy-load-image-background blur\" style=\"color:transparent;display:inline-block\"><span class=\"\" style=\"display:inline-block\"></span></span></div><div class=\"_2YB7p\"><h3 class=\"_11dVb\">2012 Toyota Etios Liva G</h3><ul class=\"_3J2G-\"><li>52,656 km</li><li class=\"_3W_AJ\"></li><li>Petrol</li><li class=\"_3W_AJ\"></li><li>Manual</li></ul><span class=\"_3JoYA\">City Driven</span><div class=\"_2KyOK\"><strong class=\"_3RL-I\">₹2.37 Lakh</strong></div><div class=\"-EPGU\"><span class=\"_2O0yU\">EMIs from ₹7,872/month</span></div><p class=\"_3dGMY\">Free Test Drive <span>Today<!-- --> </span> <!-- --> at <span>Goregaon, Mumbai</span></p></div></div></a>, <a class=\"IIJDn\" href=\"https://www.cars24.com/buy-used-toyota-yaris-2018-cars-mumbai-10309084776/\" target=\"_blank\"><div><div class=\"RPKrE\"><span class=\"lazy-load-image-background blur\" style=\"color:transparent;display:inline-block\"><span class=\"\" style=\"display:inline-block\"></span></span></div><div class=\"_2YB7p\"><h3 class=\"_11dVb\">2018 Toyota YARIS VX MT</h3><ul class=\"_3J2G-\"><li>30,509 km</li><li class=\"_3W_AJ\"></li><li>Petrol</li><li class=\"_3W_AJ\"></li><li>Manual</li></ul><span class=\"_3JoYA\">Top Model</span><div class=\"_2KyOK\"><strong class=\"_3RL-I\">₹7.83 Lakh</strong><span class=\"_30QQ7\">₹8.16 Lakh</span><span class=\"YWP1x\">(33k off)</span></div><div class=\"-EPGU\"><span class=\"_2O0yU\">EMIs from ₹15,308/month</span></div><p class=\"_3dGMY\">Free Test Drive <span>Today<!-- --> </span> <!-- --> at <span>Goregaon, Mumbai</span></p></div></div></a>, <a class=\"IIJDn\" href=\"https://www.cars24.com/buy-used-toyota-urban-cruiser-2021-cars-mumbai-10363031717/\" target=\"_blank\"><div><div class=\"RPKrE\"><span class=\"lazy-load-image-background blur\" style=\"color:transparent;display:inline-block\"><span class=\"\" style=\"display:inline-block\"></span></span></div><div class=\"_2YB7p\"><h3 class=\"_11dVb\">2021 Toyota URBAN CRUISER PREMIUM GRADE MT</h3><ul class=\"_3J2G-\"><li>18,001 km</li><li class=\"_3W_AJ\"></li><li>Petrol</li><li class=\"_3W_AJ\"></li><li>Manual</li></ul><span class=\"_3JoYA\">Top Model</span><div class=\"_2KyOK\"><strong class=\"_3RL-I\">₹9.57 Lakh</strong></div><div class=\"-EPGU\"><span class=\"_2O0yU\">EMIs from ₹18,223/month</span></div><p class=\"_3dGMY\">Free Test Drive <span>Today<!-- --> </span> <!-- --> at <span>Goregaon, Mumbai</span></p></div></div></a>, <a class=\"IIJDn\" href=\"https://www.cars24.com/buy-used-toyota-etios-liva-2011-cars-mumbai-10300387713/\" target=\"_blank\"><div><div class=\"RPKrE\"><span class=\"lazy-load-image-background blur\" style=\"color:transparent;display:inline-block\"><span class=\"\" style=\"display:inline-block\"></span></span></div><div class=\"_2YB7p\"><h3 class=\"_11dVb\">2011 Toyota Etios Liva G</h3><ul class=\"_3J2G-\"><li>79,643 km</li><li class=\"_3W_AJ\"></li><li>Petrol</li><li class=\"_3W_AJ\"></li><li>Manual</li></ul><span class=\"_3JoYA\">City Driven</span><div class=\"_2KyOK\"><strong class=\"_3RL-I\">₹2.33 Lakh</strong><span class=\"_30QQ7\">₹2.47 Lakh</span><span class=\"YWP1x\">(14k off)</span></div><div class=\"-EPGU\"><span class=\"_2O0yU\">EMIs from ₹10,968/month</span></div><p class=\"_3dGMY\">Free Test Drive <span>Today<!-- --> </span> <!-- --> at <span>Mulund West, Mumbai \n",
      "</span></p></div></div></a>, <a class=\"IIJDn\" href=\"https://www.cars24.com/buy-used-toyota-urban-cruiser-2022-cars-mumbai-10364881763/\" target=\"_blank\"><div><div class=\"RPKrE\"><span class=\"lazy-load-image-background blur\" style=\"color:transparent;display:inline-block\"><span class=\"\" style=\"display:inline-block\"></span></span></div><div class=\"_2YB7p\"><h3 class=\"_11dVb\">2022 Toyota URBAN CRUISER PREMIUM GRADE AT</h3><ul class=\"_3J2G-\"><li>33,986 km</li><li class=\"_3W_AJ\"></li><li>Petrol</li><li class=\"_3W_AJ\"></li><li>Automatic</li></ul><span class=\"_3JoYA\">Top Model</span><div class=\"_2KyOK\"><strong class=\"_3RL-I\">₹10.11 Lakh</strong><span class=\"_30QQ7\">₹10.98 Lakh</span><span class=\"YWP1x\">(87k off)</span></div><div class=\"-EPGU\"><span class=\"_2O0yU\">EMIs from ₹19,243/month</span></div><p class=\"_3dGMY\">Free Test Drive <span>Today<!-- --> </span> <!-- --> at <span>Seawood\n",
      "</span></p></div></div></a>, <a class=\"IIJDn\" href=\"https://www.cars24.com/buy-used-toyota-etios-liva-2011-cars-mumbai-10344882711/\" target=\"_blank\"><div><div class=\"RPKrE\"><span class=\"lazy-load-image-background blur\" style=\"color:transparent;display:inline-block\"><span class=\"\" style=\"display:inline-block\"></span></span></div><div class=\"_2YB7p\"><h3 class=\"_11dVb\">2011 Toyota Etios Liva G</h3><ul class=\"_3J2G-\"><li>77,595 km</li><li class=\"_3W_AJ\"></li><li>Petrol</li><li class=\"_3W_AJ\"></li><li>Manual</li></ul><span class=\"_3JoYA\">City Driven</span><div class=\"_2KyOK\"><strong class=\"_3RL-I\">₹2.47 Lakh</strong><span class=\"_30QQ7\">₹2.79 Lakh</span><span class=\"YWP1x\">(31.8k off)</span></div><div class=\"-EPGU\"><span class=\"_2O0yU\">EMIs from ₹11,637/month</span></div><p class=\"_3dGMY\">Free Test Drive <span>Today<!-- --> </span> <!-- --> at <span>Seawood\n",
      "</span></p></div></div></a>, <a class=\"IIJDn\" href=\"https://www.cars24.com/buy-used-toyota-corolla-altis-2018-cars-mumbai-10347757789/\" target=\"_blank\"><div><div class=\"RPKrE\"><span class=\"lazy-load-image-background blur\" style=\"color:transparent;display:inline-block\"><span class=\"\" style=\"display:inline-block\"></span></span></div><div class=\"_2YB7p\"><h3 class=\"_11dVb\">2018 Toyota Corolla Altis VL CVT PETROL</h3><ul class=\"_3J2G-\"><li>74,221 km</li><li class=\"_3W_AJ\"></li><li>Petrol</li><li class=\"_3W_AJ\"></li><li>Automatic</li></ul><span class=\"_3JoYA\">Alloy Wheels</span><div class=\"_2KyOK\"><strong class=\"_3RL-I\">₹9.78 Lakh</strong><span class=\"_30QQ7\">₹11.70 Lakh</span><span class=\"YWP1x\">(1.92L off)</span></div><div class=\"-EPGU\"><span class=\"_2O0yU\">EMIs from ₹18,615/month</span></div><p class=\"_3dGMY\">Free Test Drive <span>Today<!-- --> </span> <!-- --> at <span>Mulund West, Mumbai \n",
      "</span></p></div></div></a>, <a class=\"IIJDn\" href=\"https://www.cars24.com/buy-used-toyota-corolla-altis-2017-cars-mumbai-10341353786/\" target=\"_blank\"><div><div class=\"RPKrE\"><span class=\"lazy-load-image-background blur\" style=\"color:transparent;display:inline-block\"><span class=\"\" style=\"display:inline-block\"></span></span></div><div class=\"_2YB7p\"><h3 class=\"_11dVb\">2017 Toyota Corolla Altis VL CVT PETROL</h3><ul class=\"_3J2G-\"><li>56,595 km</li><li class=\"_3W_AJ\"></li><li>Petrol</li><li class=\"_3W_AJ\"></li><li>Automatic</li></ul><span class=\"_3JoYA\">Alloy Wheels</span><div class=\"_2KyOK\"><strong class=\"_3RL-I\">₹10.33 Lakh</strong><span class=\"_30QQ7\">₹12.05 Lakh</span><span class=\"YWP1x\">(1.72L off)</span></div><div class=\"-EPGU\"><span class=\"_2O0yU\">EMIs from ₹19,662/month</span></div><p class=\"_3dGMY\">Free Test Drive <span>Today<!-- --> </span> <!-- --> at <span>Mulund West, Mumbai \n",
      "</span></p></div></div></a>, <a class=\"IIJDn\" href=\"https://www.cars24.com/buy-used-toyota-glanza-2019-cars-mumbai-10385082749/\" target=\"_blank\"><div><div class=\"RPKrE\"><span class=\"lazy-load-image-background blur\" style=\"color:transparent;display:inline-block\"><span class=\"\" style=\"display:inline-block\"></span></span></div><div class=\"_2YB7p\"><h3 class=\"_11dVb\">2019 Toyota Glanza G CVT</h3><ul class=\"_3J2G-\"><li>16,870 km</li><li class=\"_3W_AJ\"></li><li>Petrol</li><li class=\"_3W_AJ\"></li><li>Automatic</li></ul><span class=\"_3JoYA\">Alloy Wheels</span><div class=\"_2KyOK\"><strong class=\"_3RL-I\">₹6.79 Lakh</strong><span class=\"_30QQ7\">₹7.39 Lakh</span><span class=\"YWP1x\">(60k off)</span></div><div class=\"-EPGU\"><span class=\"_2O0yU\">EMIs from ₹13,275/month</span></div><p class=\"_3dGMY\">Free Test Drive <span>Today<!-- --> </span> <!-- --> at <span>Seawood\n",
      "</span></p></div></div></a>, <a class=\"IIJDn\" href=\"https://www.cars24.com/buy-used-toyota-corolla-altis-2018-cars-mumbai-10368150714/\" target=\"_blank\"><div><div class=\"RPKrE\"><span class=\"lazy-load-image-background blur\" style=\"color:transparent;display:inline-block\"><span class=\"\" style=\"display:inline-block\"></span></span></div><div class=\"_2YB7p\"><h3 class=\"_11dVb\">2018 Toyota Corolla Altis VL CVT PETROL</h3><ul class=\"_3J2G-\"><li>77,581 km</li><li class=\"_3W_AJ\"></li><li>Petrol</li><li class=\"_3W_AJ\"></li><li>Automatic</li></ul><span class=\"_3JoYA\">Alloy Wheels</span><div class=\"_2KyOK\"><strong class=\"_3RL-I\">₹9.80 Lakh</strong><span class=\"_30QQ7\">₹12.38 Lakh</span><span class=\"YWP1x\">(2.58L off)</span></div><div class=\"-EPGU\"><span class=\"_2O0yU\">EMIs from ₹18,657/month</span></div><p class=\"_3dGMY\">Free Test Drive <span>Today<!-- --> </span> <!-- --> at <span>Mulund West, Mumbai \n",
      "</span></p></div></div></a>, <a class=\"IIJDn\" href=\"https://www.cars24.com/buy-used-toyota-glanza-2020-cars-mumbai-10329134797/\" target=\"_blank\"><div><div class=\"RPKrE\"><span class=\"lazy-load-image-background blur\" style=\"color:transparent;display:inline-block\"><span class=\"\" style=\"display:inline-block\"></span></span></div><div class=\"_2YB7p\"><h3 class=\"_11dVb\">2020 Toyota Glanza V CVT</h3><ul class=\"_3J2G-\"><li>56,916 km</li><li class=\"_3W_AJ\"></li><li>Petrol</li><li class=\"_3W_AJ\"></li><li>Automatic</li></ul><span class=\"_3JoYA\">Top Model</span><div class=\"_2KyOK\"><strong class=\"_3RL-I\">₹7.13 Lakh</strong><span class=\"_30QQ7\">₹7.94 Lakh</span><span class=\"YWP1x\">(81k off)</span></div><div class=\"-EPGU\"><span class=\"_2O0yU\">EMIs from ₹13,939/month</span></div><p class=\"_3dGMY\">Free Test Drive <span>Today<!-- --> </span> <!-- --> at <span>Goregaon, Mumbai</span></p></div></div></a>, <a class=\"IIJDn\" href=\"https://www.cars24.com/buy-used-toyota-corolla-altis-2017-cars-mumbai-10333453784/\" target=\"_blank\"><div><div class=\"RPKrE\"><span class=\"lazy-load-image-background blur\" style=\"color:transparent;display:inline-block\"><span class=\"\" style=\"display:inline-block\"></span></span></div><div class=\"_2YB7p\"><h3 class=\"_11dVb\">2017 Toyota Corolla Altis VL CVT PETROL</h3><ul class=\"_3J2G-\"><li>61,520 km</li><li class=\"_3W_AJ\"></li><li>Petrol</li><li class=\"_3W_AJ\"></li><li>Automatic</li></ul><span class=\"_3JoYA\">Alloy Wheels</span><div class=\"_2KyOK\"><strong class=\"_3RL-I\">₹10.21 Lakh</strong><span class=\"_30QQ7\">₹12.49 Lakh</span><span class=\"YWP1x\">(2.28L off)</span></div><div class=\"-EPGU\"><span class=\"_2O0yU\">EMIs from ₹19,434/month</span></div><p class=\"_3dGMY\">Free Test Drive <span>Today<!-- --> </span> <!-- --> at <span>Mulund West, Mumbai \n",
      "</span></p></div></div></a>, <a class=\"IIJDn\" href=\"https://www.cars24.com/buy-used-toyota-glanza-2019-cars-mumbai-10313688786/\" target=\"_blank\"><div><div class=\"RPKrE\"><span class=\"lazy-load-image-background blur\" style=\"color:transparent;display:inline-block\"><span class=\"\" style=\"display:inline-block\"></span></span></div><div class=\"_2YB7p\"><h3 class=\"_11dVb\">2019 Toyota Glanza V CVT</h3><ul class=\"_3J2G-\"><li>15,816 km</li><li class=\"_3W_AJ\"></li><li>Petrol</li><li class=\"_3W_AJ\"></li><li>Automatic</li></ul><span class=\"_3JoYA\">Top Model</span><div class=\"_2KyOK\"><strong class=\"_3RL-I\">₹7.93 Lakh</strong><span class=\"_30QQ7\">₹8.07 Lakh</span><span class=\"YWP1x\">(14k off)</span></div><div class=\"-EPGU\"><span class=\"_2O0yU\">EMIs from ₹15,503/month</span></div><p class=\"_3dGMY\">Free Test Drive <span>Today<!-- --> </span> <!-- --> at <span>Goregaon, Mumbai</span></p></div></div></a>, <a class=\"IIJDn\" href=\"https://www.cars24.com/buy-used-toyota-glanza-2019-cars-mumbai-10356986728/\" target=\"_blank\"><div><div class=\"RPKrE\"><span class=\"lazy-load-image-background blur\" style=\"color:transparent;display:inline-block\"><span class=\"\" style=\"display:inline-block\"></span></span></div><div class=\"_2YB7p\"><h3 class=\"_11dVb\">2019 Toyota Glanza G CVT</h3><ul class=\"_3J2G-\"><li>21,695 km</li><li class=\"_3W_AJ\"></li><li>Petrol</li><li class=\"_3W_AJ\"></li><li>Automatic</li></ul><span class=\"_3JoYA\">Alloy Wheels</span><div class=\"_2KyOK\"><strong class=\"_3RL-I\">₹7.28 Lakh</strong><span class=\"_30QQ7\">₹7.73 Lakh</span><span class=\"YWP1x\">(45k off)</span></div><div class=\"-EPGU\"><span class=\"_2O0yU\">EMIs from ₹14,233/month</span></div><p class=\"_3dGMY\">Free Test Drive <span>Today<!-- --> </span> <!-- --> at <span>Seawood\n",
      "</span></p></div></div></a>, <a class=\"IIJDn\" href=\"https://www.cars24.com/buy-used-toyota-etios-liva-2013-cars-mumbai-10357532759/\" target=\"_blank\"><div><div class=\"RPKrE\"><span class=\"lazy-load-image-background blur\" style=\"color:transparent;display:inline-block\"><span class=\"\" style=\"display:inline-block\"></span></span></div><div class=\"_2YB7p\"><h3 class=\"_11dVb\">2013 Toyota Etios Liva G</h3><ul class=\"_3J2G-\"><li>30,154 km</li><li class=\"_3W_AJ\"></li><li>Petrol</li><li class=\"_3W_AJ\"></li><li>Manual</li></ul><span class=\"_3JoYA\">Reg. Serviced</span><div class=\"_2KyOK\"><strong class=\"_3RL-I\">₹2.51 Lakh</strong></div><div class=\"-EPGU\"><span class=\"_2O0yU\">EMIs from ₹6,610/month</span></div><p class=\"_3dGMY\">Free Test Drive <span>Today<!-- --> </span> <!-- --> at <span>Goregaon, Mumbai</span></p></div></div></a>, <a class=\"IIJDn\" href=\"https://www.cars24.com/buy-used-toyota-etios-liva-2011-cars-mumbai-10340382734/\" target=\"_blank\"><div><div class=\"RPKrE\"><span class=\"lazy-load-image-background blur\" style=\"color:transparent;display:inline-block\"><span class=\"\" style=\"display:inline-block\"></span></span></div><div class=\"_2YB7p\"><h3 class=\"_11dVb\">2011 Toyota Etios Liva G</h3><ul class=\"_3J2G-\"><li>75,420 km</li><li class=\"_3W_AJ\"></li><li>Petrol</li><li class=\"_3W_AJ\"></li><li>Manual</li></ul><span class=\"_3JoYA\">100% Tyre Life</span><div class=\"_2KyOK\"><strong class=\"_3RL-I\">₹2.58 Lakh</strong><span class=\"_30QQ7\">₹2.95 Lakh</span><span class=\"YWP1x\">(37k off)</span></div><div class=\"-EPGU\"><span class=\"_2O0yU\">EMIs from ₹12,145/month</span></div><p class=\"_3dGMY\">Free Test Drive <span>Today<!-- --> </span> <!-- --> at <span>Goregaon, Mumbai</span></p></div></div></a>, <a class=\"IIJDn\" href=\"https://www.cars24.com/buy-used-toyota-innova-2012-cars-mumbai-10364535759/\" target=\"_blank\"><div><div class=\"RPKrE\"><span class=\"lazy-load-image-background blur\" style=\"color:transparent;display:inline-block\"><span class=\"\" style=\"display:inline-block\"></span></span></div><div class=\"_2YB7p\"><h3 class=\"_11dVb\">2012 Toyota Innova 2.5 GX 8 STR</h3><ul class=\"_3J2G-\"><li>89,683 km</li><li class=\"_3W_AJ\"></li><li>Diesel</li><li class=\"_3W_AJ\"></li><li>Manual</li></ul><span class=\"_3JoYA\">100% Tyre Life</span><div class=\"_2KyOK\"><strong class=\"_3RL-I\">₹6.60 Lakh</strong></div><div class=\"-EPGU\"><span class=\"_2O0yU\">EMIs from ₹31,068/month</span></div><p class=\"_3dGMY\">Free Test Drive <span>Today<!-- --> </span> <!-- --> at <span>Goregaon, Mumbai</span></p></div></div></a>, <a class=\"IIJDn\" href=\"https://www.cars24.com/buy-used-toyota-etios-liva-2014-cars-mumbai-10311489756/\" target=\"_blank\"><div><div class=\"RPKrE\"><span class=\"lazy-load-image-background blur\" style=\"color:transparent;display:inline-block\"><span class=\"\" style=\"display:inline-block\"></span></span></div><div class=\"_2YB7p\"><h3 class=\"_11dVb\">2014 Toyota Etios Liva G</h3><ul class=\"_3J2G-\"><li>23,685 km</li><li class=\"_3W_AJ\"></li><li>Petrol</li><li class=\"_3W_AJ\"></li><li>Manual</li></ul><span class=\"_3JoYA\">Reg. Serviced</span><div class=\"_2KyOK\"><strong class=\"_3RL-I\">₹3.33 Lakh</strong><span class=\"_30QQ7\">₹3.68 Lakh</span><span class=\"YWP1x\">(35k off)</span></div><div class=\"-EPGU\"><span class=\"_2O0yU\">EMIs from ₹7,407/month</span></div><span class=\"_1MKmC\">Currently tokened</span></div></div></a>]\n"
     ]
    }
   ],
   "source": [
    "print(results)"
   ]
  },
  {
   "cell_type": "code",
   "execution_count": 7,
   "id": "2c061396",
   "metadata": {},
   "outputs": [
    {
     "data": {
      "text/plain": [
       "18"
      ]
     },
     "execution_count": 7,
     "metadata": {},
     "output_type": "execute_result"
    }
   ],
   "source": [
    "len(results)"
   ]
  },
  {
   "cell_type": "code",
   "execution_count": 9,
   "id": "c22692fc",
   "metadata": {},
   "outputs": [],
   "source": [
    "car_details=soup.find_all('h3',{'class':'_11dVb'})"
   ]
  },
  {
   "cell_type": "code",
   "execution_count": 10,
   "id": "d0fd1a00",
   "metadata": {},
   "outputs": [
    {
     "name": "stdout",
     "output_type": "stream",
     "text": [
      "[<h3 class=\"_11dVb\">2012 Toyota Etios Liva G</h3>, <h3 class=\"_11dVb\">2018 Toyota YARIS VX MT</h3>, <h3 class=\"_11dVb\">2021 Toyota URBAN CRUISER PREMIUM GRADE MT</h3>, <h3 class=\"_11dVb\">2011 Toyota Etios Liva G</h3>, <h3 class=\"_11dVb\">2022 Toyota URBAN CRUISER PREMIUM GRADE AT</h3>, <h3 class=\"_11dVb\">2011 Toyota Etios Liva G</h3>, <h3 class=\"_11dVb\">2018 Toyota Corolla Altis VL CVT PETROL</h3>, <h3 class=\"_11dVb\">2017 Toyota Corolla Altis VL CVT PETROL</h3>, <h3 class=\"_11dVb\">2019 Toyota Glanza G CVT</h3>, <h3 class=\"_11dVb\">2018 Toyota Corolla Altis VL CVT PETROL</h3>, <h3 class=\"_11dVb\">2020 Toyota Glanza V CVT</h3>, <h3 class=\"_11dVb\">2017 Toyota Corolla Altis VL CVT PETROL</h3>, <h3 class=\"_11dVb\">2019 Toyota Glanza V CVT</h3>, <h3 class=\"_11dVb\">2019 Toyota Glanza G CVT</h3>, <h3 class=\"_11dVb\">2013 Toyota Etios Liva G</h3>, <h3 class=\"_11dVb\">2011 Toyota Etios Liva G</h3>, <h3 class=\"_11dVb\">2012 Toyota Innova 2.5 GX 8 STR</h3>, <h3 class=\"_11dVb\">2014 Toyota Etios Liva G</h3>]\n"
     ]
    }
   ],
   "source": [
    "print(car_details)"
   ]
  },
  {
   "cell_type": "code",
   "execution_count": 11,
   "id": "1ff3b10a",
   "metadata": {},
   "outputs": [
    {
     "data": {
      "text/plain": [
       "18"
      ]
     },
     "execution_count": 11,
     "metadata": {},
     "output_type": "execute_result"
    }
   ],
   "source": [
    "len(car_details)"
   ]
  },
  {
   "cell_type": "code",
   "execution_count": 12,
   "id": "9346bf6f",
   "metadata": {},
   "outputs": [],
   "source": [
    "details=[]\n",
    "for i in car_details:\n",
    "    details.append(i.text)"
   ]
  },
  {
   "cell_type": "code",
   "execution_count": 13,
   "id": "1cfb599f",
   "metadata": {},
   "outputs": [
    {
     "data": {
      "text/plain": [
       "['2012 Toyota Etios Liva G',\n",
       " '2018 Toyota YARIS VX MT',\n",
       " '2021 Toyota URBAN CRUISER PREMIUM GRADE MT',\n",
       " '2011 Toyota Etios Liva G',\n",
       " '2022 Toyota URBAN CRUISER PREMIUM GRADE AT',\n",
       " '2011 Toyota Etios Liva G',\n",
       " '2018 Toyota Corolla Altis VL CVT PETROL',\n",
       " '2017 Toyota Corolla Altis VL CVT PETROL',\n",
       " '2019 Toyota Glanza G CVT',\n",
       " '2018 Toyota Corolla Altis VL CVT PETROL',\n",
       " '2020 Toyota Glanza V CVT',\n",
       " '2017 Toyota Corolla Altis VL CVT PETROL',\n",
       " '2019 Toyota Glanza V CVT',\n",
       " '2019 Toyota Glanza G CVT',\n",
       " '2013 Toyota Etios Liva G',\n",
       " '2011 Toyota Etios Liva G',\n",
       " '2012 Toyota Innova 2.5 GX 8 STR',\n",
       " '2014 Toyota Etios Liva G']"
      ]
     },
     "execution_count": 13,
     "metadata": {},
     "output_type": "execute_result"
    }
   ],
   "source": [
    "details"
   ]
  },
  {
   "cell_type": "code",
   "execution_count": 14,
   "id": "52f523eb",
   "metadata": {},
   "outputs": [],
   "source": [
    "cars = soup.find_all('a', class_='IIJDn')"
   ]
  },
  {
   "cell_type": "code",
   "execution_count": 15,
   "id": "d9c04e46",
   "metadata": {},
   "outputs": [
    {
     "data": {
      "text/plain": [
       "[<a class=\"IIJDn\" href=\"https://www.cars24.com/buy-used-toyota-etios-liva-2012-cars-mumbai-10374437758/\" target=\"_blank\"><div><div class=\"RPKrE\"><span class=\"lazy-load-image-background blur\" style=\"color:transparent;display:inline-block\"><span class=\"\" style=\"display:inline-block\"></span></span></div><div class=\"_2YB7p\"><h3 class=\"_11dVb\">2012 Toyota Etios Liva G</h3><ul class=\"_3J2G-\"><li>52,656 km</li><li class=\"_3W_AJ\"></li><li>Petrol</li><li class=\"_3W_AJ\"></li><li>Manual</li></ul><span class=\"_3JoYA\">City Driven</span><div class=\"_2KyOK\"><strong class=\"_3RL-I\">₹2.37 Lakh</strong></div><div class=\"-EPGU\"><span class=\"_2O0yU\">EMIs from ₹7,872/month</span></div><p class=\"_3dGMY\">Free Test Drive <span>Today<!-- --> </span> <!-- --> at <span>Goregaon, Mumbai</span></p></div></div></a>,\n",
       " <a class=\"IIJDn\" href=\"https://www.cars24.com/buy-used-toyota-yaris-2018-cars-mumbai-10309084776/\" target=\"_blank\"><div><div class=\"RPKrE\"><span class=\"lazy-load-image-background blur\" style=\"color:transparent;display:inline-block\"><span class=\"\" style=\"display:inline-block\"></span></span></div><div class=\"_2YB7p\"><h3 class=\"_11dVb\">2018 Toyota YARIS VX MT</h3><ul class=\"_3J2G-\"><li>30,509 km</li><li class=\"_3W_AJ\"></li><li>Petrol</li><li class=\"_3W_AJ\"></li><li>Manual</li></ul><span class=\"_3JoYA\">Top Model</span><div class=\"_2KyOK\"><strong class=\"_3RL-I\">₹7.83 Lakh</strong><span class=\"_30QQ7\">₹8.16 Lakh</span><span class=\"YWP1x\">(33k off)</span></div><div class=\"-EPGU\"><span class=\"_2O0yU\">EMIs from ₹15,308/month</span></div><p class=\"_3dGMY\">Free Test Drive <span>Today<!-- --> </span> <!-- --> at <span>Goregaon, Mumbai</span></p></div></div></a>,\n",
       " <a class=\"IIJDn\" href=\"https://www.cars24.com/buy-used-toyota-urban-cruiser-2021-cars-mumbai-10363031717/\" target=\"_blank\"><div><div class=\"RPKrE\"><span class=\"lazy-load-image-background blur\" style=\"color:transparent;display:inline-block\"><span class=\"\" style=\"display:inline-block\"></span></span></div><div class=\"_2YB7p\"><h3 class=\"_11dVb\">2021 Toyota URBAN CRUISER PREMIUM GRADE MT</h3><ul class=\"_3J2G-\"><li>18,001 km</li><li class=\"_3W_AJ\"></li><li>Petrol</li><li class=\"_3W_AJ\"></li><li>Manual</li></ul><span class=\"_3JoYA\">Top Model</span><div class=\"_2KyOK\"><strong class=\"_3RL-I\">₹9.57 Lakh</strong></div><div class=\"-EPGU\"><span class=\"_2O0yU\">EMIs from ₹18,223/month</span></div><p class=\"_3dGMY\">Free Test Drive <span>Today<!-- --> </span> <!-- --> at <span>Goregaon, Mumbai</span></p></div></div></a>,\n",
       " <a class=\"IIJDn\" href=\"https://www.cars24.com/buy-used-toyota-etios-liva-2011-cars-mumbai-10300387713/\" target=\"_blank\"><div><div class=\"RPKrE\"><span class=\"lazy-load-image-background blur\" style=\"color:transparent;display:inline-block\"><span class=\"\" style=\"display:inline-block\"></span></span></div><div class=\"_2YB7p\"><h3 class=\"_11dVb\">2011 Toyota Etios Liva G</h3><ul class=\"_3J2G-\"><li>79,643 km</li><li class=\"_3W_AJ\"></li><li>Petrol</li><li class=\"_3W_AJ\"></li><li>Manual</li></ul><span class=\"_3JoYA\">City Driven</span><div class=\"_2KyOK\"><strong class=\"_3RL-I\">₹2.33 Lakh</strong><span class=\"_30QQ7\">₹2.47 Lakh</span><span class=\"YWP1x\">(14k off)</span></div><div class=\"-EPGU\"><span class=\"_2O0yU\">EMIs from ₹10,968/month</span></div><p class=\"_3dGMY\">Free Test Drive <span>Today<!-- --> </span> <!-- --> at <span>Mulund West, Mumbai \n",
       " </span></p></div></div></a>,\n",
       " <a class=\"IIJDn\" href=\"https://www.cars24.com/buy-used-toyota-urban-cruiser-2022-cars-mumbai-10364881763/\" target=\"_blank\"><div><div class=\"RPKrE\"><span class=\"lazy-load-image-background blur\" style=\"color:transparent;display:inline-block\"><span class=\"\" style=\"display:inline-block\"></span></span></div><div class=\"_2YB7p\"><h3 class=\"_11dVb\">2022 Toyota URBAN CRUISER PREMIUM GRADE AT</h3><ul class=\"_3J2G-\"><li>33,986 km</li><li class=\"_3W_AJ\"></li><li>Petrol</li><li class=\"_3W_AJ\"></li><li>Automatic</li></ul><span class=\"_3JoYA\">Top Model</span><div class=\"_2KyOK\"><strong class=\"_3RL-I\">₹10.11 Lakh</strong><span class=\"_30QQ7\">₹10.98 Lakh</span><span class=\"YWP1x\">(87k off)</span></div><div class=\"-EPGU\"><span class=\"_2O0yU\">EMIs from ₹19,243/month</span></div><p class=\"_3dGMY\">Free Test Drive <span>Today<!-- --> </span> <!-- --> at <span>Seawood\n",
       " </span></p></div></div></a>,\n",
       " <a class=\"IIJDn\" href=\"https://www.cars24.com/buy-used-toyota-etios-liva-2011-cars-mumbai-10344882711/\" target=\"_blank\"><div><div class=\"RPKrE\"><span class=\"lazy-load-image-background blur\" style=\"color:transparent;display:inline-block\"><span class=\"\" style=\"display:inline-block\"></span></span></div><div class=\"_2YB7p\"><h3 class=\"_11dVb\">2011 Toyota Etios Liva G</h3><ul class=\"_3J2G-\"><li>77,595 km</li><li class=\"_3W_AJ\"></li><li>Petrol</li><li class=\"_3W_AJ\"></li><li>Manual</li></ul><span class=\"_3JoYA\">City Driven</span><div class=\"_2KyOK\"><strong class=\"_3RL-I\">₹2.47 Lakh</strong><span class=\"_30QQ7\">₹2.79 Lakh</span><span class=\"YWP1x\">(31.8k off)</span></div><div class=\"-EPGU\"><span class=\"_2O0yU\">EMIs from ₹11,637/month</span></div><p class=\"_3dGMY\">Free Test Drive <span>Today<!-- --> </span> <!-- --> at <span>Seawood\n",
       " </span></p></div></div></a>,\n",
       " <a class=\"IIJDn\" href=\"https://www.cars24.com/buy-used-toyota-corolla-altis-2018-cars-mumbai-10347757789/\" target=\"_blank\"><div><div class=\"RPKrE\"><span class=\"lazy-load-image-background blur\" style=\"color:transparent;display:inline-block\"><span class=\"\" style=\"display:inline-block\"></span></span></div><div class=\"_2YB7p\"><h3 class=\"_11dVb\">2018 Toyota Corolla Altis VL CVT PETROL</h3><ul class=\"_3J2G-\"><li>74,221 km</li><li class=\"_3W_AJ\"></li><li>Petrol</li><li class=\"_3W_AJ\"></li><li>Automatic</li></ul><span class=\"_3JoYA\">Alloy Wheels</span><div class=\"_2KyOK\"><strong class=\"_3RL-I\">₹9.78 Lakh</strong><span class=\"_30QQ7\">₹11.70 Lakh</span><span class=\"YWP1x\">(1.92L off)</span></div><div class=\"-EPGU\"><span class=\"_2O0yU\">EMIs from ₹18,615/month</span></div><p class=\"_3dGMY\">Free Test Drive <span>Today<!-- --> </span> <!-- --> at <span>Mulund West, Mumbai \n",
       " </span></p></div></div></a>,\n",
       " <a class=\"IIJDn\" href=\"https://www.cars24.com/buy-used-toyota-corolla-altis-2017-cars-mumbai-10341353786/\" target=\"_blank\"><div><div class=\"RPKrE\"><span class=\"lazy-load-image-background blur\" style=\"color:transparent;display:inline-block\"><span class=\"\" style=\"display:inline-block\"></span></span></div><div class=\"_2YB7p\"><h3 class=\"_11dVb\">2017 Toyota Corolla Altis VL CVT PETROL</h3><ul class=\"_3J2G-\"><li>56,595 km</li><li class=\"_3W_AJ\"></li><li>Petrol</li><li class=\"_3W_AJ\"></li><li>Automatic</li></ul><span class=\"_3JoYA\">Alloy Wheels</span><div class=\"_2KyOK\"><strong class=\"_3RL-I\">₹10.33 Lakh</strong><span class=\"_30QQ7\">₹12.05 Lakh</span><span class=\"YWP1x\">(1.72L off)</span></div><div class=\"-EPGU\"><span class=\"_2O0yU\">EMIs from ₹19,662/month</span></div><p class=\"_3dGMY\">Free Test Drive <span>Today<!-- --> </span> <!-- --> at <span>Mulund West, Mumbai \n",
       " </span></p></div></div></a>,\n",
       " <a class=\"IIJDn\" href=\"https://www.cars24.com/buy-used-toyota-glanza-2019-cars-mumbai-10385082749/\" target=\"_blank\"><div><div class=\"RPKrE\"><span class=\"lazy-load-image-background blur\" style=\"color:transparent;display:inline-block\"><span class=\"\" style=\"display:inline-block\"></span></span></div><div class=\"_2YB7p\"><h3 class=\"_11dVb\">2019 Toyota Glanza G CVT</h3><ul class=\"_3J2G-\"><li>16,870 km</li><li class=\"_3W_AJ\"></li><li>Petrol</li><li class=\"_3W_AJ\"></li><li>Automatic</li></ul><span class=\"_3JoYA\">Alloy Wheels</span><div class=\"_2KyOK\"><strong class=\"_3RL-I\">₹6.79 Lakh</strong><span class=\"_30QQ7\">₹7.39 Lakh</span><span class=\"YWP1x\">(60k off)</span></div><div class=\"-EPGU\"><span class=\"_2O0yU\">EMIs from ₹13,275/month</span></div><p class=\"_3dGMY\">Free Test Drive <span>Today<!-- --> </span> <!-- --> at <span>Seawood\n",
       " </span></p></div></div></a>,\n",
       " <a class=\"IIJDn\" href=\"https://www.cars24.com/buy-used-toyota-corolla-altis-2018-cars-mumbai-10368150714/\" target=\"_blank\"><div><div class=\"RPKrE\"><span class=\"lazy-load-image-background blur\" style=\"color:transparent;display:inline-block\"><span class=\"\" style=\"display:inline-block\"></span></span></div><div class=\"_2YB7p\"><h3 class=\"_11dVb\">2018 Toyota Corolla Altis VL CVT PETROL</h3><ul class=\"_3J2G-\"><li>77,581 km</li><li class=\"_3W_AJ\"></li><li>Petrol</li><li class=\"_3W_AJ\"></li><li>Automatic</li></ul><span class=\"_3JoYA\">Alloy Wheels</span><div class=\"_2KyOK\"><strong class=\"_3RL-I\">₹9.80 Lakh</strong><span class=\"_30QQ7\">₹12.38 Lakh</span><span class=\"YWP1x\">(2.58L off)</span></div><div class=\"-EPGU\"><span class=\"_2O0yU\">EMIs from ₹18,657/month</span></div><p class=\"_3dGMY\">Free Test Drive <span>Today<!-- --> </span> <!-- --> at <span>Mulund West, Mumbai \n",
       " </span></p></div></div></a>,\n",
       " <a class=\"IIJDn\" href=\"https://www.cars24.com/buy-used-toyota-glanza-2020-cars-mumbai-10329134797/\" target=\"_blank\"><div><div class=\"RPKrE\"><span class=\"lazy-load-image-background blur\" style=\"color:transparent;display:inline-block\"><span class=\"\" style=\"display:inline-block\"></span></span></div><div class=\"_2YB7p\"><h3 class=\"_11dVb\">2020 Toyota Glanza V CVT</h3><ul class=\"_3J2G-\"><li>56,916 km</li><li class=\"_3W_AJ\"></li><li>Petrol</li><li class=\"_3W_AJ\"></li><li>Automatic</li></ul><span class=\"_3JoYA\">Top Model</span><div class=\"_2KyOK\"><strong class=\"_3RL-I\">₹7.13 Lakh</strong><span class=\"_30QQ7\">₹7.94 Lakh</span><span class=\"YWP1x\">(81k off)</span></div><div class=\"-EPGU\"><span class=\"_2O0yU\">EMIs from ₹13,939/month</span></div><p class=\"_3dGMY\">Free Test Drive <span>Today<!-- --> </span> <!-- --> at <span>Goregaon, Mumbai</span></p></div></div></a>,\n",
       " <a class=\"IIJDn\" href=\"https://www.cars24.com/buy-used-toyota-corolla-altis-2017-cars-mumbai-10333453784/\" target=\"_blank\"><div><div class=\"RPKrE\"><span class=\"lazy-load-image-background blur\" style=\"color:transparent;display:inline-block\"><span class=\"\" style=\"display:inline-block\"></span></span></div><div class=\"_2YB7p\"><h3 class=\"_11dVb\">2017 Toyota Corolla Altis VL CVT PETROL</h3><ul class=\"_3J2G-\"><li>61,520 km</li><li class=\"_3W_AJ\"></li><li>Petrol</li><li class=\"_3W_AJ\"></li><li>Automatic</li></ul><span class=\"_3JoYA\">Alloy Wheels</span><div class=\"_2KyOK\"><strong class=\"_3RL-I\">₹10.21 Lakh</strong><span class=\"_30QQ7\">₹12.49 Lakh</span><span class=\"YWP1x\">(2.28L off)</span></div><div class=\"-EPGU\"><span class=\"_2O0yU\">EMIs from ₹19,434/month</span></div><p class=\"_3dGMY\">Free Test Drive <span>Today<!-- --> </span> <!-- --> at <span>Mulund West, Mumbai \n",
       " </span></p></div></div></a>,\n",
       " <a class=\"IIJDn\" href=\"https://www.cars24.com/buy-used-toyota-glanza-2019-cars-mumbai-10313688786/\" target=\"_blank\"><div><div class=\"RPKrE\"><span class=\"lazy-load-image-background blur\" style=\"color:transparent;display:inline-block\"><span class=\"\" style=\"display:inline-block\"></span></span></div><div class=\"_2YB7p\"><h3 class=\"_11dVb\">2019 Toyota Glanza V CVT</h3><ul class=\"_3J2G-\"><li>15,816 km</li><li class=\"_3W_AJ\"></li><li>Petrol</li><li class=\"_3W_AJ\"></li><li>Automatic</li></ul><span class=\"_3JoYA\">Top Model</span><div class=\"_2KyOK\"><strong class=\"_3RL-I\">₹7.93 Lakh</strong><span class=\"_30QQ7\">₹8.07 Lakh</span><span class=\"YWP1x\">(14k off)</span></div><div class=\"-EPGU\"><span class=\"_2O0yU\">EMIs from ₹15,503/month</span></div><p class=\"_3dGMY\">Free Test Drive <span>Today<!-- --> </span> <!-- --> at <span>Goregaon, Mumbai</span></p></div></div></a>,\n",
       " <a class=\"IIJDn\" href=\"https://www.cars24.com/buy-used-toyota-glanza-2019-cars-mumbai-10356986728/\" target=\"_blank\"><div><div class=\"RPKrE\"><span class=\"lazy-load-image-background blur\" style=\"color:transparent;display:inline-block\"><span class=\"\" style=\"display:inline-block\"></span></span></div><div class=\"_2YB7p\"><h3 class=\"_11dVb\">2019 Toyota Glanza G CVT</h3><ul class=\"_3J2G-\"><li>21,695 km</li><li class=\"_3W_AJ\"></li><li>Petrol</li><li class=\"_3W_AJ\"></li><li>Automatic</li></ul><span class=\"_3JoYA\">Alloy Wheels</span><div class=\"_2KyOK\"><strong class=\"_3RL-I\">₹7.28 Lakh</strong><span class=\"_30QQ7\">₹7.73 Lakh</span><span class=\"YWP1x\">(45k off)</span></div><div class=\"-EPGU\"><span class=\"_2O0yU\">EMIs from ₹14,233/month</span></div><p class=\"_3dGMY\">Free Test Drive <span>Today<!-- --> </span> <!-- --> at <span>Seawood\n",
       " </span></p></div></div></a>,\n",
       " <a class=\"IIJDn\" href=\"https://www.cars24.com/buy-used-toyota-etios-liva-2013-cars-mumbai-10357532759/\" target=\"_blank\"><div><div class=\"RPKrE\"><span class=\"lazy-load-image-background blur\" style=\"color:transparent;display:inline-block\"><span class=\"\" style=\"display:inline-block\"></span></span></div><div class=\"_2YB7p\"><h3 class=\"_11dVb\">2013 Toyota Etios Liva G</h3><ul class=\"_3J2G-\"><li>30,154 km</li><li class=\"_3W_AJ\"></li><li>Petrol</li><li class=\"_3W_AJ\"></li><li>Manual</li></ul><span class=\"_3JoYA\">Reg. Serviced</span><div class=\"_2KyOK\"><strong class=\"_3RL-I\">₹2.51 Lakh</strong></div><div class=\"-EPGU\"><span class=\"_2O0yU\">EMIs from ₹6,610/month</span></div><p class=\"_3dGMY\">Free Test Drive <span>Today<!-- --> </span> <!-- --> at <span>Goregaon, Mumbai</span></p></div></div></a>,\n",
       " <a class=\"IIJDn\" href=\"https://www.cars24.com/buy-used-toyota-etios-liva-2011-cars-mumbai-10340382734/\" target=\"_blank\"><div><div class=\"RPKrE\"><span class=\"lazy-load-image-background blur\" style=\"color:transparent;display:inline-block\"><span class=\"\" style=\"display:inline-block\"></span></span></div><div class=\"_2YB7p\"><h3 class=\"_11dVb\">2011 Toyota Etios Liva G</h3><ul class=\"_3J2G-\"><li>75,420 km</li><li class=\"_3W_AJ\"></li><li>Petrol</li><li class=\"_3W_AJ\"></li><li>Manual</li></ul><span class=\"_3JoYA\">100% Tyre Life</span><div class=\"_2KyOK\"><strong class=\"_3RL-I\">₹2.58 Lakh</strong><span class=\"_30QQ7\">₹2.95 Lakh</span><span class=\"YWP1x\">(37k off)</span></div><div class=\"-EPGU\"><span class=\"_2O0yU\">EMIs from ₹12,145/month</span></div><p class=\"_3dGMY\">Free Test Drive <span>Today<!-- --> </span> <!-- --> at <span>Goregaon, Mumbai</span></p></div></div></a>,\n",
       " <a class=\"IIJDn\" href=\"https://www.cars24.com/buy-used-toyota-innova-2012-cars-mumbai-10364535759/\" target=\"_blank\"><div><div class=\"RPKrE\"><span class=\"lazy-load-image-background blur\" style=\"color:transparent;display:inline-block\"><span class=\"\" style=\"display:inline-block\"></span></span></div><div class=\"_2YB7p\"><h3 class=\"_11dVb\">2012 Toyota Innova 2.5 GX 8 STR</h3><ul class=\"_3J2G-\"><li>89,683 km</li><li class=\"_3W_AJ\"></li><li>Diesel</li><li class=\"_3W_AJ\"></li><li>Manual</li></ul><span class=\"_3JoYA\">100% Tyre Life</span><div class=\"_2KyOK\"><strong class=\"_3RL-I\">₹6.60 Lakh</strong></div><div class=\"-EPGU\"><span class=\"_2O0yU\">EMIs from ₹31,068/month</span></div><p class=\"_3dGMY\">Free Test Drive <span>Today<!-- --> </span> <!-- --> at <span>Goregaon, Mumbai</span></p></div></div></a>,\n",
       " <a class=\"IIJDn\" href=\"https://www.cars24.com/buy-used-toyota-etios-liva-2014-cars-mumbai-10311489756/\" target=\"_blank\"><div><div class=\"RPKrE\"><span class=\"lazy-load-image-background blur\" style=\"color:transparent;display:inline-block\"><span class=\"\" style=\"display:inline-block\"></span></span></div><div class=\"_2YB7p\"><h3 class=\"_11dVb\">2014 Toyota Etios Liva G</h3><ul class=\"_3J2G-\"><li>23,685 km</li><li class=\"_3W_AJ\"></li><li>Petrol</li><li class=\"_3W_AJ\"></li><li>Manual</li></ul><span class=\"_3JoYA\">Reg. Serviced</span><div class=\"_2KyOK\"><strong class=\"_3RL-I\">₹3.33 Lakh</strong><span class=\"_30QQ7\">₹3.68 Lakh</span><span class=\"YWP1x\">(35k off)</span></div><div class=\"-EPGU\"><span class=\"_2O0yU\">EMIs from ₹7,407/month</span></div><span class=\"_1MKmC\">Currently tokened</span></div></div></a>]"
      ]
     },
     "execution_count": 15,
     "metadata": {},
     "output_type": "execute_result"
    }
   ],
   "source": [
    "cars"
   ]
  },
  {
   "cell_type": "code",
   "execution_count": 16,
   "id": "92c423d8",
   "metadata": {},
   "outputs": [
    {
     "name": "stdout",
     "output_type": "stream",
     "text": [
      "Year: 2012\n",
      "Name: Toyota Etios Liva G\n",
      "Kilometers Driven: 52,656 km\n",
      "Fuel Type: Petrol\n",
      "Transmission: Manual\n",
      "Price: ₹2.37 Lakh\n",
      "\n",
      "Year: 2018\n",
      "Name: Toyota YARIS VX MT\n",
      "Kilometers Driven: 30,509 km\n",
      "Fuel Type: Petrol\n",
      "Transmission: Manual\n",
      "Price: ₹7.83 Lakh\n",
      "\n",
      "Year: 2021\n",
      "Name: Toyota URBAN CRUISER PREMIUM GRADE MT\n",
      "Kilometers Driven: 18,001 km\n",
      "Fuel Type: Petrol\n",
      "Transmission: Manual\n",
      "Price: ₹9.57 Lakh\n",
      "\n",
      "Year: 2011\n",
      "Name: Toyota Etios Liva G\n",
      "Kilometers Driven: 79,643 km\n",
      "Fuel Type: Petrol\n",
      "Transmission: Manual\n",
      "Price: ₹2.33 Lakh\n",
      "\n",
      "Year: 2022\n",
      "Name: Toyota URBAN CRUISER PREMIUM GRADE AT\n",
      "Kilometers Driven: 33,986 km\n",
      "Fuel Type: Petrol\n",
      "Transmission: Automatic\n",
      "Price: ₹10.11 Lakh\n",
      "\n",
      "Year: 2011\n",
      "Name: Toyota Etios Liva G\n",
      "Kilometers Driven: 77,595 km\n",
      "Fuel Type: Petrol\n",
      "Transmission: Manual\n",
      "Price: ₹2.47 Lakh\n",
      "\n",
      "Year: 2018\n",
      "Name: Toyota Corolla Altis VL CVT PETROL\n",
      "Kilometers Driven: 74,221 km\n",
      "Fuel Type: Petrol\n",
      "Transmission: Automatic\n",
      "Price: ₹9.78 Lakh\n",
      "\n",
      "Year: 2017\n",
      "Name: Toyota Corolla Altis VL CVT PETROL\n",
      "Kilometers Driven: 56,595 km\n",
      "Fuel Type: Petrol\n",
      "Transmission: Automatic\n",
      "Price: ₹10.33 Lakh\n",
      "\n",
      "Year: 2019\n",
      "Name: Toyota Glanza G CVT\n",
      "Kilometers Driven: 16,870 km\n",
      "Fuel Type: Petrol\n",
      "Transmission: Automatic\n",
      "Price: ₹6.79 Lakh\n",
      "\n",
      "Year: 2018\n",
      "Name: Toyota Corolla Altis VL CVT PETROL\n",
      "Kilometers Driven: 77,581 km\n",
      "Fuel Type: Petrol\n",
      "Transmission: Automatic\n",
      "Price: ₹9.80 Lakh\n",
      "\n",
      "Year: 2020\n",
      "Name: Toyota Glanza V CVT\n",
      "Kilometers Driven: 56,916 km\n",
      "Fuel Type: Petrol\n",
      "Transmission: Automatic\n",
      "Price: ₹7.13 Lakh\n",
      "\n",
      "Year: 2017\n",
      "Name: Toyota Corolla Altis VL CVT PETROL\n",
      "Kilometers Driven: 61,520 km\n",
      "Fuel Type: Petrol\n",
      "Transmission: Automatic\n",
      "Price: ₹10.21 Lakh\n",
      "\n",
      "Year: 2019\n",
      "Name: Toyota Glanza V CVT\n",
      "Kilometers Driven: 15,816 km\n",
      "Fuel Type: Petrol\n",
      "Transmission: Automatic\n",
      "Price: ₹7.93 Lakh\n",
      "\n",
      "Year: 2019\n",
      "Name: Toyota Glanza G CVT\n",
      "Kilometers Driven: 21,695 km\n",
      "Fuel Type: Petrol\n",
      "Transmission: Automatic\n",
      "Price: ₹7.28 Lakh\n",
      "\n",
      "Year: 2013\n",
      "Name: Toyota Etios Liva G\n",
      "Kilometers Driven: 30,154 km\n",
      "Fuel Type: Petrol\n",
      "Transmission: Manual\n",
      "Price: ₹2.51 Lakh\n",
      "\n",
      "Year: 2011\n",
      "Name: Toyota Etios Liva G\n",
      "Kilometers Driven: 75,420 km\n",
      "Fuel Type: Petrol\n",
      "Transmission: Manual\n",
      "Price: ₹2.58 Lakh\n",
      "\n",
      "Year: 2012\n",
      "Name: Toyota Innova 2.5 GX 8 STR\n",
      "Kilometers Driven: 89,683 km\n",
      "Fuel Type: Diesel\n",
      "Transmission: Manual\n",
      "Price: ₹6.60 Lakh\n",
      "\n",
      "Year: 2014\n",
      "Name: Toyota Etios Liva G\n",
      "Kilometers Driven: 23,685 km\n",
      "Fuel Type: Petrol\n",
      "Transmission: Manual\n",
      "Price: ₹3.33 Lakh\n",
      "\n"
     ]
    }
   ],
   "source": [
    "for car in cars:\n",
    "    title_tag = car.find('h3', class_='_11dVb')\n",
    "    if title_tag:\n",
    "        title = title_tag.text\n",
    "        year, name = title.split(' ', 1) if ' ' in title else ('N/A', title)\n",
    "    else:\n",
    "        year, name = 'N/A', 'N/A'\n",
    "\n",
    "    details = car.find('ul', class_='_3J2G-').find_all('li') if car.find('ul', class_='_3J2G-') else []\n",
    "\n",
    "    km_driven = details[0].text if len(details) > 0 else 'N/A'\n",
    "    fuel_type = details[2].text if len(details) > 2 else 'N/A'\n",
    "    transmission = details[4].text if len(details) > 4 else 'N/A'\n",
    "    price = car.find('strong', class_='_3RL-I').text if car.find('strong', class_='_3RL-I') else 'N/A'\n",
    "\n",
    "    print(f\"Year: {year}\")\n",
    "    print(f\"Name: {name}\")\n",
    "    print(f\"Kilometers Driven: {km_driven}\")\n",
    "    print(f\"Fuel Type: {fuel_type}\")\n",
    "    print(f\"Transmission: {transmission}\")\n",
    "    print(f\"Price: {price}\")\n",
    "    print()"
   ]
  },
  {
   "cell_type": "code",
   "execution_count": null,
   "id": "fda8f042",
   "metadata": {},
   "outputs": [],
   "source": []
  }
 ],
 "metadata": {
  "kernelspec": {
   "display_name": "Python 3 (ipykernel)",
   "language": "python",
   "name": "python3"
  },
  "language_info": {
   "codemirror_mode": {
    "name": "ipython",
    "version": 3
   },
   "file_extension": ".py",
   "mimetype": "text/x-python",
   "name": "python",
   "nbconvert_exporter": "python",
   "pygments_lexer": "ipython3",
   "version": "3.11.3"
  }
 },
 "nbformat": 4,
 "nbformat_minor": 5
}
